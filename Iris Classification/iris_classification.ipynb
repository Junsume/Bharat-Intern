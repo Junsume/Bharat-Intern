{
 "cells": [
  {
   "cell_type": "code",
   "execution_count": 1,
   "id": "e2cb3914",
   "metadata": {},
   "outputs": [
    {
     "name": "stdout",
     "output_type": "stream",
     "text": [
      "WARNING:tensorflow:From C:\\Users\\junsu\\AppData\\Roaming\\Python\\Python311\\site-packages\\keras\\src\\losses.py:2976: The name tf.losses.sparse_softmax_cross_entropy is deprecated. Please use tf.compat.v1.losses.sparse_softmax_cross_entropy instead.\n",
      "\n"
     ]
    }
   ],
   "source": [
    "import pandas as pd\n",
    "import numpy as np\n",
    "import seaborn as sns\n",
    "from tensorflow import keras"
   ]
  },
  {
   "cell_type": "code",
   "execution_count": 2,
   "id": "cecaac08",
   "metadata": {},
   "outputs": [
    {
     "data": {
      "text/html": [
       "<div>\n",
       "<style scoped>\n",
       "    .dataframe tbody tr th:only-of-type {\n",
       "        vertical-align: middle;\n",
       "    }\n",
       "\n",
       "    .dataframe tbody tr th {\n",
       "        vertical-align: top;\n",
       "    }\n",
       "\n",
       "    .dataframe thead th {\n",
       "        text-align: right;\n",
       "    }\n",
       "</style>\n",
       "<table border=\"1\" class=\"dataframe\">\n",
       "  <thead>\n",
       "    <tr style=\"text-align: right;\">\n",
       "      <th></th>\n",
       "      <th>sepal_length</th>\n",
       "      <th>sepal_width</th>\n",
       "      <th>petal_length</th>\n",
       "      <th>petal_width</th>\n",
       "      <th>species</th>\n",
       "    </tr>\n",
       "  </thead>\n",
       "  <tbody>\n",
       "    <tr>\n",
       "      <th>0</th>\n",
       "      <td>5.1</td>\n",
       "      <td>3.5</td>\n",
       "      <td>1.4</td>\n",
       "      <td>0.2</td>\n",
       "      <td>Iris-setosa</td>\n",
       "    </tr>\n",
       "    <tr>\n",
       "      <th>1</th>\n",
       "      <td>4.9</td>\n",
       "      <td>3.0</td>\n",
       "      <td>1.4</td>\n",
       "      <td>0.2</td>\n",
       "      <td>Iris-setosa</td>\n",
       "    </tr>\n",
       "    <tr>\n",
       "      <th>2</th>\n",
       "      <td>4.7</td>\n",
       "      <td>3.2</td>\n",
       "      <td>1.3</td>\n",
       "      <td>0.2</td>\n",
       "      <td>Iris-setosa</td>\n",
       "    </tr>\n",
       "    <tr>\n",
       "      <th>3</th>\n",
       "      <td>4.6</td>\n",
       "      <td>3.1</td>\n",
       "      <td>1.5</td>\n",
       "      <td>0.2</td>\n",
       "      <td>Iris-setosa</td>\n",
       "    </tr>\n",
       "    <tr>\n",
       "      <th>4</th>\n",
       "      <td>5.0</td>\n",
       "      <td>3.6</td>\n",
       "      <td>1.4</td>\n",
       "      <td>0.2</td>\n",
       "      <td>Iris-setosa</td>\n",
       "    </tr>\n",
       "    <tr>\n",
       "      <th>...</th>\n",
       "      <td>...</td>\n",
       "      <td>...</td>\n",
       "      <td>...</td>\n",
       "      <td>...</td>\n",
       "      <td>...</td>\n",
       "    </tr>\n",
       "    <tr>\n",
       "      <th>145</th>\n",
       "      <td>6.7</td>\n",
       "      <td>3.0</td>\n",
       "      <td>5.2</td>\n",
       "      <td>2.3</td>\n",
       "      <td>Iris-virginica</td>\n",
       "    </tr>\n",
       "    <tr>\n",
       "      <th>146</th>\n",
       "      <td>6.3</td>\n",
       "      <td>2.5</td>\n",
       "      <td>5.0</td>\n",
       "      <td>1.9</td>\n",
       "      <td>Iris-virginica</td>\n",
       "    </tr>\n",
       "    <tr>\n",
       "      <th>147</th>\n",
       "      <td>6.5</td>\n",
       "      <td>3.0</td>\n",
       "      <td>5.2</td>\n",
       "      <td>2.0</td>\n",
       "      <td>Iris-virginica</td>\n",
       "    </tr>\n",
       "    <tr>\n",
       "      <th>148</th>\n",
       "      <td>6.2</td>\n",
       "      <td>3.4</td>\n",
       "      <td>5.4</td>\n",
       "      <td>2.3</td>\n",
       "      <td>Iris-virginica</td>\n",
       "    </tr>\n",
       "    <tr>\n",
       "      <th>149</th>\n",
       "      <td>5.9</td>\n",
       "      <td>3.0</td>\n",
       "      <td>5.1</td>\n",
       "      <td>1.8</td>\n",
       "      <td>Iris-virginica</td>\n",
       "    </tr>\n",
       "  </tbody>\n",
       "</table>\n",
       "<p>150 rows × 5 columns</p>\n",
       "</div>"
      ],
      "text/plain": [
       "     sepal_length  sepal_width  petal_length  petal_width         species\n",
       "0             5.1          3.5           1.4          0.2     Iris-setosa\n",
       "1             4.9          3.0           1.4          0.2     Iris-setosa\n",
       "2             4.7          3.2           1.3          0.2     Iris-setosa\n",
       "3             4.6          3.1           1.5          0.2     Iris-setosa\n",
       "4             5.0          3.6           1.4          0.2     Iris-setosa\n",
       "..            ...          ...           ...          ...             ...\n",
       "145           6.7          3.0           5.2          2.3  Iris-virginica\n",
       "146           6.3          2.5           5.0          1.9  Iris-virginica\n",
       "147           6.5          3.0           5.2          2.0  Iris-virginica\n",
       "148           6.2          3.4           5.4          2.3  Iris-virginica\n",
       "149           5.9          3.0           5.1          1.8  Iris-virginica\n",
       "\n",
       "[150 rows x 5 columns]"
      ]
     },
     "execution_count": 2,
     "metadata": {},
     "output_type": "execute_result"
    }
   ],
   "source": [
    "df = pd.read_csv('IRIS.csv')\n",
    "df"
   ]
  },
  {
   "cell_type": "code",
   "execution_count": 3,
   "id": "bbb465af",
   "metadata": {},
   "outputs": [
    {
     "name": "stdout",
     "output_type": "stream",
     "text": [
      "<class 'pandas.core.frame.DataFrame'>\n",
      "RangeIndex: 150 entries, 0 to 149\n",
      "Data columns (total 5 columns):\n",
      " #   Column        Non-Null Count  Dtype  \n",
      "---  ------        --------------  -----  \n",
      " 0   sepal_length  150 non-null    float64\n",
      " 1   sepal_width   150 non-null    float64\n",
      " 2   petal_length  150 non-null    float64\n",
      " 3   petal_width   150 non-null    float64\n",
      " 4   species       150 non-null    object \n",
      "dtypes: float64(4), object(1)\n",
      "memory usage: 6.0+ KB\n"
     ]
    }
   ],
   "source": [
    "df.info()"
   ]
  },
  {
   "cell_type": "code",
   "execution_count": 4,
   "id": "796e3d1b",
   "metadata": {},
   "outputs": [
    {
     "data": {
      "text/plain": [
       "Index(['sepal_length', 'sepal_width', 'petal_length', 'petal_width',\n",
       "       'species'],\n",
       "      dtype='object')"
      ]
     },
     "execution_count": 4,
     "metadata": {},
     "output_type": "execute_result"
    }
   ],
   "source": [
    "df.columns"
   ]
  },
  {
   "cell_type": "code",
   "execution_count": 8,
   "id": "9b068940",
   "metadata": {},
   "outputs": [
    {
     "data": {
      "text/plain": [
       "Iris-setosa        50\n",
       "Iris-versicolor    50\n",
       "Iris-virginica     50\n",
       "Name: species, dtype: int64"
      ]
     },
     "execution_count": 8,
     "metadata": {},
     "output_type": "execute_result"
    }
   ],
   "source": [
    "df['species'].value_counts()"
   ]
  },
  {
   "cell_type": "code",
   "execution_count": 9,
   "id": "5cf2b2c6",
   "metadata": {},
   "outputs": [
    {
     "data": {
      "text/plain": [
       "sepal_length    0\n",
       "sepal_width     0\n",
       "petal_length    0\n",
       "petal_width     0\n",
       "species         0\n",
       "dtype: int64"
      ]
     },
     "execution_count": 9,
     "metadata": {},
     "output_type": "execute_result"
    }
   ],
   "source": [
    "df.isnull().sum()"
   ]
  },
  {
   "cell_type": "code",
   "execution_count": 11,
   "id": "678f60d3",
   "metadata": {},
   "outputs": [
    {
     "data": {
      "text/html": [
       "<div>\n",
       "<style scoped>\n",
       "    .dataframe tbody tr th:only-of-type {\n",
       "        vertical-align: middle;\n",
       "    }\n",
       "\n",
       "    .dataframe tbody tr th {\n",
       "        vertical-align: top;\n",
       "    }\n",
       "\n",
       "    .dataframe thead th {\n",
       "        text-align: right;\n",
       "    }\n",
       "</style>\n",
       "<table border=\"1\" class=\"dataframe\">\n",
       "  <thead>\n",
       "    <tr style=\"text-align: right;\">\n",
       "      <th></th>\n",
       "      <th>sepal_length</th>\n",
       "      <th>sepal_width</th>\n",
       "      <th>petal_length</th>\n",
       "      <th>petal_width</th>\n",
       "      <th>species</th>\n",
       "    </tr>\n",
       "  </thead>\n",
       "  <tbody>\n",
       "    <tr>\n",
       "      <th>0</th>\n",
       "      <td>5.1</td>\n",
       "      <td>3.5</td>\n",
       "      <td>1.4</td>\n",
       "      <td>0.2</td>\n",
       "      <td>0</td>\n",
       "    </tr>\n",
       "    <tr>\n",
       "      <th>1</th>\n",
       "      <td>4.9</td>\n",
       "      <td>3.0</td>\n",
       "      <td>1.4</td>\n",
       "      <td>0.2</td>\n",
       "      <td>0</td>\n",
       "    </tr>\n",
       "    <tr>\n",
       "      <th>2</th>\n",
       "      <td>4.7</td>\n",
       "      <td>3.2</td>\n",
       "      <td>1.3</td>\n",
       "      <td>0.2</td>\n",
       "      <td>0</td>\n",
       "    </tr>\n",
       "    <tr>\n",
       "      <th>3</th>\n",
       "      <td>4.6</td>\n",
       "      <td>3.1</td>\n",
       "      <td>1.5</td>\n",
       "      <td>0.2</td>\n",
       "      <td>0</td>\n",
       "    </tr>\n",
       "    <tr>\n",
       "      <th>4</th>\n",
       "      <td>5.0</td>\n",
       "      <td>3.6</td>\n",
       "      <td>1.4</td>\n",
       "      <td>0.2</td>\n",
       "      <td>0</td>\n",
       "    </tr>\n",
       "  </tbody>\n",
       "</table>\n",
       "</div>"
      ],
      "text/plain": [
       "   sepal_length  sepal_width  petal_length  petal_width  species\n",
       "0           5.1          3.5           1.4          0.2        0\n",
       "1           4.9          3.0           1.4          0.2        0\n",
       "2           4.7          3.2           1.3          0.2        0\n",
       "3           4.6          3.1           1.5          0.2        0\n",
       "4           5.0          3.6           1.4          0.2        0"
      ]
     },
     "execution_count": 11,
     "metadata": {},
     "output_type": "execute_result"
    }
   ],
   "source": [
    "from sklearn.preprocessing import LabelEncoder\n",
    "le = LabelEncoder()\n",
    "df['species'] = le.fit_transform(df['species'])\n",
    "df.head()"
   ]
  },
  {
   "cell_type": "code",
   "execution_count": 14,
   "id": "ead61d3a",
   "metadata": {},
   "outputs": [
    {
     "data": {
      "text/plain": [
       "array(['Iris-setosa', 'Iris-versicolor', 'Iris-virginica'], dtype=object)"
      ]
     },
     "execution_count": 14,
     "metadata": {},
     "output_type": "execute_result"
    }
   ],
   "source": [
    "species_names = le.classes_\n",
    "species_names"
   ]
  },
  {
   "cell_type": "code",
   "execution_count": 12,
   "id": "fb5fc19c",
   "metadata": {},
   "outputs": [
    {
     "data": {
      "text/plain": [
       "0    50\n",
       "1    50\n",
       "2    50\n",
       "Name: species, dtype: int64"
      ]
     },
     "execution_count": 12,
     "metadata": {},
     "output_type": "execute_result"
    }
   ],
   "source": [
    "df['species'].value_counts()  # labeled by alphabatical order"
   ]
  },
  {
   "cell_type": "code",
   "execution_count": 15,
   "id": "7b320082",
   "metadata": {},
   "outputs": [
    {
     "data": {
      "text/html": [
       "<div>\n",
       "<style scoped>\n",
       "    .dataframe tbody tr th:only-of-type {\n",
       "        vertical-align: middle;\n",
       "    }\n",
       "\n",
       "    .dataframe tbody tr th {\n",
       "        vertical-align: top;\n",
       "    }\n",
       "\n",
       "    .dataframe thead th {\n",
       "        text-align: right;\n",
       "    }\n",
       "</style>\n",
       "<table border=\"1\" class=\"dataframe\">\n",
       "  <thead>\n",
       "    <tr style=\"text-align: right;\">\n",
       "      <th></th>\n",
       "      <th>sepal_length</th>\n",
       "      <th>sepal_width</th>\n",
       "      <th>petal_length</th>\n",
       "      <th>petal_width</th>\n",
       "    </tr>\n",
       "  </thead>\n",
       "  <tbody>\n",
       "    <tr>\n",
       "      <th>0</th>\n",
       "      <td>5.1</td>\n",
       "      <td>3.5</td>\n",
       "      <td>1.4</td>\n",
       "      <td>0.2</td>\n",
       "    </tr>\n",
       "    <tr>\n",
       "      <th>1</th>\n",
       "      <td>4.9</td>\n",
       "      <td>3.0</td>\n",
       "      <td>1.4</td>\n",
       "      <td>0.2</td>\n",
       "    </tr>\n",
       "    <tr>\n",
       "      <th>2</th>\n",
       "      <td>4.7</td>\n",
       "      <td>3.2</td>\n",
       "      <td>1.3</td>\n",
       "      <td>0.2</td>\n",
       "    </tr>\n",
       "    <tr>\n",
       "      <th>3</th>\n",
       "      <td>4.6</td>\n",
       "      <td>3.1</td>\n",
       "      <td>1.5</td>\n",
       "      <td>0.2</td>\n",
       "    </tr>\n",
       "    <tr>\n",
       "      <th>4</th>\n",
       "      <td>5.0</td>\n",
       "      <td>3.6</td>\n",
       "      <td>1.4</td>\n",
       "      <td>0.2</td>\n",
       "    </tr>\n",
       "    <tr>\n",
       "      <th>...</th>\n",
       "      <td>...</td>\n",
       "      <td>...</td>\n",
       "      <td>...</td>\n",
       "      <td>...</td>\n",
       "    </tr>\n",
       "    <tr>\n",
       "      <th>145</th>\n",
       "      <td>6.7</td>\n",
       "      <td>3.0</td>\n",
       "      <td>5.2</td>\n",
       "      <td>2.3</td>\n",
       "    </tr>\n",
       "    <tr>\n",
       "      <th>146</th>\n",
       "      <td>6.3</td>\n",
       "      <td>2.5</td>\n",
       "      <td>5.0</td>\n",
       "      <td>1.9</td>\n",
       "    </tr>\n",
       "    <tr>\n",
       "      <th>147</th>\n",
       "      <td>6.5</td>\n",
       "      <td>3.0</td>\n",
       "      <td>5.2</td>\n",
       "      <td>2.0</td>\n",
       "    </tr>\n",
       "    <tr>\n",
       "      <th>148</th>\n",
       "      <td>6.2</td>\n",
       "      <td>3.4</td>\n",
       "      <td>5.4</td>\n",
       "      <td>2.3</td>\n",
       "    </tr>\n",
       "    <tr>\n",
       "      <th>149</th>\n",
       "      <td>5.9</td>\n",
       "      <td>3.0</td>\n",
       "      <td>5.1</td>\n",
       "      <td>1.8</td>\n",
       "    </tr>\n",
       "  </tbody>\n",
       "</table>\n",
       "<p>150 rows × 4 columns</p>\n",
       "</div>"
      ],
      "text/plain": [
       "     sepal_length  sepal_width  petal_length  petal_width\n",
       "0             5.1          3.5           1.4          0.2\n",
       "1             4.9          3.0           1.4          0.2\n",
       "2             4.7          3.2           1.3          0.2\n",
       "3             4.6          3.1           1.5          0.2\n",
       "4             5.0          3.6           1.4          0.2\n",
       "..            ...          ...           ...          ...\n",
       "145           6.7          3.0           5.2          2.3\n",
       "146           6.3          2.5           5.0          1.9\n",
       "147           6.5          3.0           5.2          2.0\n",
       "148           6.2          3.4           5.4          2.3\n",
       "149           5.9          3.0           5.1          1.8\n",
       "\n",
       "[150 rows x 4 columns]"
      ]
     },
     "execution_count": 15,
     "metadata": {},
     "output_type": "execute_result"
    }
   ],
   "source": [
    "X = df.drop(columns = ['species'])\n",
    "y = df['species']\n",
    "X"
   ]
  },
  {
   "cell_type": "code",
   "execution_count": 16,
   "id": "bce444a6",
   "metadata": {},
   "outputs": [
    {
     "data": {
      "text/plain": [
       "0      0\n",
       "1      0\n",
       "2      0\n",
       "3      0\n",
       "4      0\n",
       "      ..\n",
       "145    2\n",
       "146    2\n",
       "147    2\n",
       "148    2\n",
       "149    2\n",
       "Name: species, Length: 150, dtype: int32"
      ]
     },
     "execution_count": 16,
     "metadata": {},
     "output_type": "execute_result"
    }
   ],
   "source": [
    "y"
   ]
  },
  {
   "cell_type": "code",
   "execution_count": 17,
   "id": "e82b4d29",
   "metadata": {},
   "outputs": [],
   "source": [
    "from sklearn.model_selection import train_test_split\n",
    "x_train, x_test, y_train, y_test = train_test_split(X,y,test_size = 0.3, shuffle = True, random_state = 69)"
   ]
  },
  {
   "cell_type": "code",
   "execution_count": 19,
   "id": "01ac6814",
   "metadata": {},
   "outputs": [
    {
     "data": {
      "text/plain": [
       "(105, 4)"
      ]
     },
     "execution_count": 19,
     "metadata": {},
     "output_type": "execute_result"
    }
   ],
   "source": [
    "x_train.shape"
   ]
  },
  {
   "cell_type": "code",
   "execution_count": 21,
   "id": "63c05b56",
   "metadata": {},
   "outputs": [
    {
     "name": "stdout",
     "output_type": "stream",
     "text": [
      "    sepal_length  sepal_width  petal_length  petal_width\n",
      "57           4.9          2.4           3.3          1.0\n",
      "[[-1.14630942 -1.44374444 -0.25650655 -0.258263  ]]\n"
     ]
    }
   ],
   "source": [
    "# scaling\n",
    "from sklearn.preprocessing import StandardScaler\n",
    "sc = StandardScaler()\n",
    "print(x_train[:1])\n",
    "x_train = sc.fit_transform(x_train)\n",
    "print(x_train[:1])\n",
    "x_test = sc.transform(x_test) # we will not use fit as it is already used"
   ]
  },
  {
   "cell_type": "code",
   "execution_count": 22,
   "id": "0b8dfad7",
   "metadata": {},
   "outputs": [
    {
     "name": "stdout",
     "output_type": "stream",
     "text": [
      "[[0. 1. 0.]\n",
      " [0. 0. 1.]\n",
      " [0. 1. 0.]\n",
      " [0. 1. 0.]\n",
      " [0. 1. 0.]]\n"
     ]
    }
   ],
   "source": [
    "y_train = keras.utils.to_categorical(y_train, num_classes=3)\n",
    "print(y_train[:5])"
   ]
  },
  {
   "cell_type": "code",
   "execution_count": 30,
   "id": "d9469c37",
   "metadata": {},
   "outputs": [],
   "source": [
    "import tensorflow as tf\n",
    "from keras.models import Sequential\n",
    "from keras.layers import Dense, Dropout\n",
    "\n",
    "# Set the default graph explicitly\n",
    "tf.compat.v1.get_default_graph()\n",
    "\n",
    "# Define your model\n",
    "model = Sequential()\n",
    "model.add(Dense(units=32, activation='relu', input_shape=(x_train.shape[-1],)))\n",
    "model.add(Dense(units=32, activation='relu'))\n",
    "model.add(Dropout(0.5))\n",
    "model.add(Dense(units=3, activation='softmax'))"
   ]
  },
  {
   "cell_type": "code",
   "execution_count": 32,
   "id": "2c1a5cf8",
   "metadata": {},
   "outputs": [
    {
     "name": "stdout",
     "output_type": "stream",
     "text": [
      "WARNING:tensorflow:From C:\\Users\\junsu\\AppData\\Roaming\\Python\\Python311\\site-packages\\keras\\src\\optimizers\\__init__.py:309: The name tf.train.Optimizer is deprecated. Please use tf.compat.v1.train.Optimizer instead.\n",
      "\n",
      "Model: \"sequential_3\"\n",
      "_________________________________________________________________\n",
      " Layer (type)                Output Shape              Param #   \n",
      "=================================================================\n",
      " dense_9 (Dense)             (None, 32)                160       \n",
      "                                                                 \n",
      " dense_10 (Dense)            (None, 32)                1056      \n",
      "                                                                 \n",
      " dropout_3 (Dropout)         (None, 32)                0         \n",
      "                                                                 \n",
      " dense_11 (Dense)            (None, 3)                 99        \n",
      "                                                                 \n",
      "=================================================================\n",
      "Total params: 1315 (5.14 KB)\n",
      "Trainable params: 1315 (5.14 KB)\n",
      "Non-trainable params: 0 (0.00 Byte)\n",
      "_________________________________________________________________\n"
     ]
    }
   ],
   "source": [
    "model.compile(optimizer='Adam', loss='categorical_crossentropy', metrics = ['accuracy'])\n",
    "model.summary()"
   ]
  },
  {
   "cell_type": "code",
   "execution_count": 33,
   "id": "cc6865fb",
   "metadata": {},
   "outputs": [
    {
     "name": "stdout",
     "output_type": "stream",
     "text": [
      "Epoch 1/100\n",
      "WARNING:tensorflow:From C:\\Users\\junsu\\AppData\\Roaming\\Python\\Python311\\site-packages\\keras\\src\\utils\\tf_utils.py:492: The name tf.ragged.RaggedTensorValue is deprecated. Please use tf.compat.v1.ragged.RaggedTensorValue instead.\n",
      "\n",
      "4/4 - 1s - loss: 1.1871 - accuracy: 0.2857 - 1s/epoch - 303ms/step\n",
      "Epoch 2/100\n",
      "4/4 - 0s - loss: 1.1570 - accuracy: 0.3048 - 18ms/epoch - 4ms/step\n",
      "Epoch 3/100\n",
      "4/4 - 0s - loss: 1.1383 - accuracy: 0.3048 - 14ms/epoch - 4ms/step\n",
      "Epoch 4/100\n",
      "4/4 - 0s - loss: 1.0522 - accuracy: 0.4286 - 13ms/epoch - 3ms/step\n",
      "Epoch 5/100\n",
      "4/4 - 0s - loss: 1.0307 - accuracy: 0.4381 - 14ms/epoch - 4ms/step\n",
      "Epoch 6/100\n",
      "4/4 - 0s - loss: 1.0142 - accuracy: 0.4857 - 20ms/epoch - 5ms/step\n",
      "Epoch 7/100\n",
      "4/4 - 0s - loss: 0.9540 - accuracy: 0.5143 - 2ms/epoch - 601us/step\n",
      "Epoch 8/100\n",
      "4/4 - 0s - loss: 0.8893 - accuracy: 0.7143 - 4ms/epoch - 1ms/step\n",
      "Epoch 9/100\n",
      "4/4 - 0s - loss: 0.9045 - accuracy: 0.6000 - 15ms/epoch - 4ms/step\n",
      "Epoch 10/100\n",
      "4/4 - 0s - loss: 0.8425 - accuracy: 0.6952 - 0s/epoch - 0s/step\n",
      "Epoch 11/100\n",
      "4/4 - 0s - loss: 0.8688 - accuracy: 0.6476 - 17ms/epoch - 4ms/step\n",
      "Epoch 12/100\n",
      "4/4 - 0s - loss: 0.8029 - accuracy: 0.7714 - 0s/epoch - 0s/step\n",
      "Epoch 13/100\n",
      "4/4 - 0s - loss: 0.8128 - accuracy: 0.7333 - 3ms/epoch - 661us/step\n",
      "Epoch 14/100\n",
      "4/4 - 0s - loss: 0.7695 - accuracy: 0.7524 - 14ms/epoch - 4ms/step\n",
      "Epoch 15/100\n",
      "4/4 - 0s - loss: 0.7393 - accuracy: 0.7619 - 2ms/epoch - 508us/step\n",
      "Epoch 16/100\n",
      "4/4 - 0s - loss: 0.7341 - accuracy: 0.7905 - 14ms/epoch - 4ms/step\n",
      "Epoch 17/100\n",
      "4/4 - 0s - loss: 0.6856 - accuracy: 0.7810 - 0s/epoch - 0s/step\n",
      "Epoch 18/100\n",
      "4/4 - 0s - loss: 0.6672 - accuracy: 0.8095 - 18ms/epoch - 4ms/step\n",
      "Epoch 19/100\n",
      "4/4 - 0s - loss: 0.6521 - accuracy: 0.7714 - 0s/epoch - 0s/step\n",
      "Epoch 20/100\n",
      "4/4 - 0s - loss: 0.6469 - accuracy: 0.7714 - 3ms/epoch - 864us/step\n",
      "Epoch 21/100\n",
      "4/4 - 0s - loss: 0.6132 - accuracy: 0.7810 - 17ms/epoch - 4ms/step\n",
      "Epoch 22/100\n",
      "4/4 - 0s - loss: 0.5353 - accuracy: 0.8667 - 13ms/epoch - 3ms/step\n",
      "Epoch 23/100\n",
      "4/4 - 0s - loss: 0.5725 - accuracy: 0.8095 - 700us/epoch - 175us/step\n",
      "Epoch 24/100\n",
      "4/4 - 0s - loss: 0.5540 - accuracy: 0.8571 - 16ms/epoch - 4ms/step\n",
      "Epoch 25/100\n",
      "4/4 - 0s - loss: 0.5085 - accuracy: 0.8381 - 16ms/epoch - 4ms/step\n",
      "Epoch 26/100\n",
      "4/4 - 0s - loss: 0.5060 - accuracy: 0.8571 - 0s/epoch - 0s/step\n",
      "Epoch 27/100\n",
      "4/4 - 0s - loss: 0.5109 - accuracy: 0.8000 - 18ms/epoch - 5ms/step\n",
      "Epoch 28/100\n",
      "4/4 - 0s - loss: 0.4955 - accuracy: 0.8000 - 15ms/epoch - 4ms/step\n",
      "Epoch 29/100\n",
      "4/4 - 0s - loss: 0.4862 - accuracy: 0.8476 - 0s/epoch - 0s/step\n",
      "Epoch 30/100\n",
      "4/4 - 0s - loss: 0.4814 - accuracy: 0.7810 - 18ms/epoch - 4ms/step\n",
      "Epoch 31/100\n",
      "4/4 - 0s - loss: 0.4320 - accuracy: 0.8762 - 16ms/epoch - 4ms/step\n",
      "Epoch 32/100\n",
      "4/4 - 0s - loss: 0.4680 - accuracy: 0.8571 - 0s/epoch - 0s/step\n",
      "Epoch 33/100\n",
      "4/4 - 0s - loss: 0.4690 - accuracy: 0.8095 - 16ms/epoch - 4ms/step\n",
      "Epoch 34/100\n",
      "4/4 - 0s - loss: 0.4487 - accuracy: 0.8095 - 16ms/epoch - 4ms/step\n",
      "Epoch 35/100\n",
      "4/4 - 0s - loss: 0.4224 - accuracy: 0.8381 - 0s/epoch - 0s/step\n",
      "Epoch 36/100\n",
      "4/4 - 0s - loss: 0.4074 - accuracy: 0.9048 - 17ms/epoch - 4ms/step\n",
      "Epoch 37/100\n",
      "4/4 - 0s - loss: 0.3846 - accuracy: 0.8476 - 13ms/epoch - 3ms/step\n",
      "Epoch 38/100\n",
      "4/4 - 0s - loss: 0.4165 - accuracy: 0.8857 - 0s/epoch - 0s/step\n",
      "Epoch 39/100\n",
      "4/4 - 0s - loss: 0.3766 - accuracy: 0.8571 - 17ms/epoch - 4ms/step\n",
      "Epoch 40/100\n",
      "4/4 - 0s - loss: 0.3661 - accuracy: 0.8476 - 14ms/epoch - 3ms/step\n",
      "Epoch 41/100\n",
      "4/4 - 0s - loss: 0.3887 - accuracy: 0.8667 - 0s/epoch - 0s/step\n",
      "Epoch 42/100\n",
      "4/4 - 0s - loss: 0.4022 - accuracy: 0.8571 - 19ms/epoch - 5ms/step\n",
      "Epoch 43/100\n",
      "4/4 - 0s - loss: 0.3183 - accuracy: 0.9048 - 14ms/epoch - 3ms/step\n",
      "Epoch 44/100\n",
      "4/4 - 0s - loss: 0.3444 - accuracy: 0.8857 - 0s/epoch - 0s/step\n",
      "Epoch 45/100\n",
      "4/4 - 0s - loss: 0.3237 - accuracy: 0.9238 - 18ms/epoch - 4ms/step\n",
      "Epoch 46/100\n",
      "4/4 - 0s - loss: 0.3583 - accuracy: 0.8952 - 9ms/epoch - 2ms/step\n",
      "Epoch 47/100\n",
      "4/4 - 0s - loss: 0.3145 - accuracy: 0.8857 - 0s/epoch - 0s/step\n",
      "Epoch 48/100\n",
      "4/4 - 0s - loss: 0.3733 - accuracy: 0.8667 - 17ms/epoch - 4ms/step\n",
      "Epoch 49/100\n",
      "4/4 - 0s - loss: 0.2967 - accuracy: 0.9524 - 15ms/epoch - 4ms/step\n",
      "Epoch 50/100\n",
      "4/4 - 0s - loss: 0.2714 - accuracy: 0.9238 - 2ms/epoch - 460us/step\n",
      "Epoch 51/100\n",
      "4/4 - 0s - loss: 0.3489 - accuracy: 0.8571 - 16ms/epoch - 4ms/step\n",
      "Epoch 52/100\n",
      "4/4 - 0s - loss: 0.3207 - accuracy: 0.8857 - 13ms/epoch - 3ms/step\n",
      "Epoch 53/100\n",
      "4/4 - 0s - loss: 0.3595 - accuracy: 0.8952 - 4ms/epoch - 971us/step\n",
      "Epoch 54/100\n",
      "4/4 - 0s - loss: 0.2942 - accuracy: 0.8952 - 14ms/epoch - 3ms/step\n",
      "Epoch 55/100\n",
      "4/4 - 0s - loss: 0.3100 - accuracy: 0.8952 - 0s/epoch - 0s/step\n",
      "Epoch 56/100\n",
      "4/4 - 0s - loss: 0.2838 - accuracy: 0.8952 - 17ms/epoch - 4ms/step\n",
      "Epoch 57/100\n",
      "4/4 - 0s - loss: 0.2917 - accuracy: 0.9048 - 13ms/epoch - 3ms/step\n",
      "Epoch 58/100\n",
      "4/4 - 0s - loss: 0.2589 - accuracy: 0.9333 - 3ms/epoch - 832us/step\n",
      "Epoch 59/100\n",
      "4/4 - 0s - loss: 0.2952 - accuracy: 0.8857 - 15ms/epoch - 4ms/step\n",
      "Epoch 60/100\n",
      "4/4 - 0s - loss: 0.2706 - accuracy: 0.9048 - 15ms/epoch - 4ms/step\n",
      "Epoch 61/100\n",
      "4/4 - 0s - loss: 0.2987 - accuracy: 0.8667 - 14ms/epoch - 3ms/step\n",
      "Epoch 62/100\n",
      "4/4 - 0s - loss: 0.2611 - accuracy: 0.8857 - 2ms/epoch - 519us/step\n",
      "Epoch 63/100\n",
      "4/4 - 0s - loss: 0.2780 - accuracy: 0.8857 - 6ms/epoch - 1ms/step\n",
      "Epoch 64/100\n",
      "4/4 - 0s - loss: 0.2600 - accuracy: 0.9048 - 3ms/epoch - 707us/step\n",
      "Epoch 65/100\n",
      "4/4 - 0s - loss: 0.2714 - accuracy: 0.8952 - 17ms/epoch - 4ms/step\n",
      "Epoch 66/100\n",
      "4/4 - 0s - loss: 0.2437 - accuracy: 0.9048 - 12ms/epoch - 3ms/step\n",
      "Epoch 67/100\n",
      "4/4 - 0s - loss: 0.3090 - accuracy: 0.8857 - 3ms/epoch - 865us/step\n",
      "Epoch 68/100\n",
      "4/4 - 0s - loss: 0.2315 - accuracy: 0.9524 - 16ms/epoch - 4ms/step\n",
      "Epoch 69/100\n",
      "4/4 - 0s - loss: 0.2288 - accuracy: 0.9238 - 0s/epoch - 0s/step\n",
      "Epoch 70/100\n",
      "4/4 - 0s - loss: 0.2492 - accuracy: 0.9143 - 16ms/epoch - 4ms/step\n",
      "Epoch 71/100\n",
      "4/4 - 0s - loss: 0.2277 - accuracy: 0.9238 - 13ms/epoch - 3ms/step\n",
      "Epoch 72/100\n",
      "4/4 - 0s - loss: 0.2527 - accuracy: 0.8952 - 724us/epoch - 181us/step\n",
      "Epoch 73/100\n",
      "4/4 - 0s - loss: 0.2364 - accuracy: 0.9333 - 16ms/epoch - 4ms/step\n",
      "Epoch 74/100\n",
      "4/4 - 0s - loss: 0.2367 - accuracy: 0.9143 - 18ms/epoch - 4ms/step\n",
      "Epoch 75/100\n",
      "4/4 - 0s - loss: 0.2251 - accuracy: 0.9429 - 16ms/epoch - 4ms/step\n",
      "Epoch 76/100\n",
      "4/4 - 0s - loss: 0.2331 - accuracy: 0.9143 - 14ms/epoch - 4ms/step\n",
      "Epoch 77/100\n",
      "4/4 - 0s - loss: 0.2230 - accuracy: 0.8857 - 16ms/epoch - 4ms/step\n",
      "Epoch 78/100\n",
      "4/4 - 0s - loss: 0.2211 - accuracy: 0.9048 - 16ms/epoch - 4ms/step\n",
      "Epoch 79/100\n",
      "4/4 - 0s - loss: 0.2076 - accuracy: 0.9333 - 20ms/epoch - 5ms/step\n",
      "Epoch 80/100\n",
      "4/4 - 0s - loss: 0.2280 - accuracy: 0.9238 - 13ms/epoch - 3ms/step\n",
      "Epoch 81/100\n",
      "4/4 - 0s - loss: 0.1850 - accuracy: 0.9524 - 18ms/epoch - 5ms/step\n",
      "Epoch 82/100\n",
      "4/4 - 0s - loss: 0.1617 - accuracy: 0.9619 - 15ms/epoch - 4ms/step\n",
      "Epoch 83/100\n",
      "4/4 - 0s - loss: 0.1809 - accuracy: 0.9619 - 13ms/epoch - 3ms/step\n",
      "Epoch 84/100\n",
      "4/4 - 0s - loss: 0.2043 - accuracy: 0.9333 - 5ms/epoch - 1ms/step\n",
      "Epoch 85/100\n",
      "4/4 - 0s - loss: 0.1807 - accuracy: 0.9619 - 2ms/epoch - 454us/step\n",
      "Epoch 86/100\n",
      "4/4 - 0s - loss: 0.1537 - accuracy: 0.9429 - 14ms/epoch - 3ms/step\n",
      "Epoch 87/100\n",
      "4/4 - 0s - loss: 0.1938 - accuracy: 0.9524 - 2ms/epoch - 442us/step\n",
      "Epoch 88/100\n",
      "4/4 - 0s - loss: 0.1631 - accuracy: 0.9429 - 0s/epoch - 0s/step\n",
      "Epoch 89/100\n",
      "4/4 - 0s - loss: 0.1819 - accuracy: 0.9524 - 3ms/epoch - 689us/step\n",
      "Epoch 90/100\n",
      "4/4 - 0s - loss: 0.1783 - accuracy: 0.9619 - 0s/epoch - 0s/step\n",
      "Epoch 91/100\n",
      "4/4 - 0s - loss: 0.1930 - accuracy: 0.9333 - 5ms/epoch - 1ms/step\n",
      "Epoch 92/100\n",
      "4/4 - 0s - loss: 0.1919 - accuracy: 0.9524 - 0s/epoch - 0s/step\n",
      "Epoch 93/100\n",
      "4/4 - 0s - loss: 0.1706 - accuracy: 0.9429 - 6ms/epoch - 2ms/step\n",
      "Epoch 94/100\n",
      "4/4 - 0s - loss: 0.1791 - accuracy: 0.9524 - 0s/epoch - 0s/step\n",
      "Epoch 95/100\n",
      "4/4 - 0s - loss: 0.1527 - accuracy: 0.9429 - 5ms/epoch - 1ms/step\n",
      "Epoch 96/100\n",
      "4/4 - 0s - loss: 0.1585 - accuracy: 0.9429 - 14ms/epoch - 4ms/step\n",
      "Epoch 97/100\n",
      "4/4 - 0s - loss: 0.1711 - accuracy: 0.9429 - 0s/epoch - 0s/step\n",
      "Epoch 98/100\n",
      "4/4 - 0s - loss: 0.1956 - accuracy: 0.9619 - 16ms/epoch - 4ms/step\n",
      "Epoch 99/100\n",
      "4/4 - 0s - loss: 0.1555 - accuracy: 0.9429 - 0s/epoch - 0s/step\n",
      "Epoch 100/100\n",
      "4/4 - 0s - loss: 0.1369 - accuracy: 0.9619 - 15ms/epoch - 4ms/step\n"
     ]
    },
    {
     "data": {
      "text/plain": [
       "<keras.src.callbacks.History at 0x1e0a126bd10>"
      ]
     },
     "execution_count": 33,
     "metadata": {},
     "output_type": "execute_result"
    }
   ],
   "source": [
    "model.fit(x_train, y_train, epochs=100, verbose=2)"
   ]
  },
  {
   "cell_type": "code",
   "execution_count": 35,
   "id": "8e6a25f0",
   "metadata": {},
   "outputs": [
    {
     "name": "stdout",
     "output_type": "stream",
     "text": [
      "2/2 [==============================] - 0s 0s/step\n",
      "[[9.9989760e-01 5.9423826e-05 4.2921714e-05]\n",
      " [3.3449605e-03 9.3483716e-01 6.1817881e-02]\n",
      " [9.9938428e-01 4.5116755e-04 1.6453696e-04]\n",
      " [5.2057352e-04 1.9006936e-02 9.8047251e-01]\n",
      " [9.9888271e-01 7.7621907e-04 3.4097742e-04]]\n"
     ]
    }
   ],
   "source": [
    "prediction = model.predict(x_test)\n",
    "print(prediction[:5])"
   ]
  },
  {
   "cell_type": "code",
   "execution_count": 36,
   "id": "37b94512",
   "metadata": {},
   "outputs": [
    {
     "name": "stdout",
     "output_type": "stream",
     "text": [
      "[0 1 0 2 0]\n"
     ]
    }
   ],
   "source": [
    "prediction = np.argmax(prediction, axis=-1)\n",
    "print(prediction[:5])"
   ]
  },
  {
   "cell_type": "code",
   "execution_count": 38,
   "id": "b521b920",
   "metadata": {},
   "outputs": [
    {
     "name": "stdout",
     "output_type": "stream",
     "text": [
      "0.9777777777777777\n"
     ]
    }
   ],
   "source": [
    "from sklearn.metrics import accuracy_score, confusion_matrix\n",
    "print(accuracy_score(y_test, prediction))"
   ]
  },
  {
   "cell_type": "code",
   "execution_count": 39,
   "id": "51d30af0",
   "metadata": {},
   "outputs": [],
   "source": [
    "cm = confusion_matrix(y_test, prediction)"
   ]
  },
  {
   "cell_type": "code",
   "execution_count": 41,
   "id": "e9e49034",
   "metadata": {},
   "outputs": [
    {
     "data": {
      "text/plain": [
       "array([[16,  0,  0],\n",
       "       [ 0, 12,  0],\n",
       "       [ 0,  1, 16]], dtype=int64)"
      ]
     },
     "execution_count": 41,
     "metadata": {},
     "output_type": "execute_result"
    }
   ],
   "source": [
    "cm"
   ]
  },
  {
   "cell_type": "code",
   "execution_count": 50,
   "id": "a50efb5b",
   "metadata": {},
   "outputs": [
    {
     "data": {
      "text/plain": [
       "Text(50.72222222222221, 0.5, 'Actual')"
      ]
     },
     "execution_count": 50,
     "metadata": {},
     "output_type": "execute_result"
    },
    {
     "data": {
      "image/png": "[encoded data removed]",
      "text/plain": [
       "<Figure size 640x480 with 2 Axes>"
      ]
     },
     "metadata": {},
     "output_type": "display_data"
    }
   ],
   "source": [
    "ax = sns.heatmap(cm, annot=True, fmt='d', cmap='Reds', xticklabels=species_names, yticklabels=species_names)\n",
    "ax.set_title(\"Confusion Matrix\")\n",
    "ax.set_xlabel('Predictions')\n",
    "ax.set_ylabel('Actual')\n"
   ]
  },
  {
   "cell_type": "code",
   "execution_count": null,
   "id": "550daf06",
   "metadata": {},
   "outputs": [],
   "source": []
  }
 ],
 "metadata": {
  "kernelspec": {
   "display_name": "Python 3 (ipykernel)",
   "language": "python",
   "name": "python3"
  },
  "language_info": {
   "codemirror_mode": {
    "name": "ipython",
    "version": 3
   },
   "file_extension": ".py",
   "mimetype": "text/x-python",
   "name": "python",
   "nbconvert_exporter": "python",
   "pygments_lexer": "ipython3",
   "version": "3.11.3"
  }
 },
 "nbformat": 4,
 "nbformat_minor": 5
}
